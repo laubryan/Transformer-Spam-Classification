{
  "cells": [
    {
      "cell_type": "markdown",
      "metadata": {
        "id": "6jBP6Bbq5wvG"
      },
      "source": [
        "# Machine Learning Spam Classification using Transformers\n",
        "\n",
        "Author: Bryan Lau\n",
        "\n",
        "## Overview  \n",
        "\n",
        "An application of machine learning for the classification of spam emails, using the popular Transformer model as outlined in Google's paper [Attention Is All You Need](https://doi.org/10.48550/arXiv.1706.03762) (Vaswan, et al., 2017).\n",
        "\n",
        "Transformer models incorporate a mechanism described in the Google paper as Multi-Head Attention, that lets the model discover relationships between words throughout the text, without suffering from the short-term memory limitations that recurrent models such as RNN or LSTM models do (Vaswani, et al., 2017).  \n",
        "\n",
        "Transformers are popularly used in a generative manner (e.g. ChatGPT), but I'll be using the model in a discriminative fashion here.\n",
        "\n",
        "## Dataset  \n",
        "I used the [Email Spam](https://www.kaggle.com/datasets/veleon/ham-and-spam-dataset) dataset from Kaggle, which contains about 3000 ham (legitimate) and spam emails. The data was split into training, validation and test sets.  \n",
        "\n",
        "## Evaluation  \n",
        "The performance of the model was evaluated based on its predictive accuracy against the test data, using common statistical metrics."
      ]
    },
    {
      "cell_type": "markdown",
      "metadata": {
        "id": "JB-32pSY5wvH"
      },
      "source": [
        "## Libraries"
      ]
    },
    {
      "cell_type": "code",
      "execution_count": 36,
      "metadata": {
        "id": "wib0j7JT5wvH"
      },
      "outputs": [],
      "source": [
        "# Import required libraries\n",
        "import nltk\n",
        "from nltk.corpus import stopwords\n",
        "from nltk.stem import WordNetLemmatizer\n",
        "from sklearn.metrics import confusion_matrix, accuracy_score, precision_score, recall_score, f1_score\n",
        "import tensorflow as tf\n",
        "import matplotlib.pyplot as plt\n",
        "import numpy as np\n",
        "import pandas as pd\n",
        "import os\n",
        "import random\n",
        "import re\n",
        "import seaborn as sns\n",
        "import shutil\n",
        "import time\n",
        "import zipfile"
      ]
    },
    {
      "cell_type": "markdown",
      "metadata": {
        "id": "shsE1hLN5wvH"
      },
      "source": [
        "## Definitions\n",
        "\n",
        "Some global definitions that I used."
      ]
    },
    {
      "cell_type": "code",
      "execution_count": 37,
      "metadata": {
        "id": "llhI5Rh95wvH"
      },
      "outputs": [],
      "source": [
        "# The base directory containing the ham/spam emails\n",
        "BASE_EMAILS_DIR = \"./emails\"\n",
        "\n",
        "# The maximum permitted word length, based on the longest English \n",
        "# words likely to be encountered in general text (Eckler, 1996)\n",
        "MAX_WORD_LEN = 22\n",
        "\n",
        "# The ratio to split training/validation/test data\n",
        "# This analysis will use a 70/15/15 split\n",
        "TRAIN_DATA_SPLIT = 0.7\n",
        "VALIDATION_DATA_SPLIT = 0.15"
      ]
    },
    {
      "cell_type": "markdown",
      "metadata": {
        "id": "teIYgE3l5wvI"
      },
      "source": [
        "## Pre-Processing\n",
        "\n"
      ]
    },
    {
      "cell_type": "markdown",
      "metadata": {
        "id": "EjSsXDJk6-G0"
      },
      "source": [
        "### Unzipping the email data\n",
        "\n",
        "First, the emails have to be unzipped. This creates two directories, `emails/ham` and `emails/spam`."
      ]
    },
    {
      "cell_type": "code",
      "execution_count": 38,
      "metadata": {
        "id": "Vh9cy3jb6qx6"
      },
      "outputs": [],
      "source": [
        "with zipfile.ZipFile(\"emails.zip\", \"r\") as zf:\n",
        "  zf.extractall(\".\")"
      ]
    },
    {
      "cell_type": "markdown",
      "metadata": {
        "id": "RAsO_PIm64PX"
      },
      "source": [
        "### Reading the data from file\n",
        "\n",
        "The next step is to read the text from the email files, so the format of the files needs to be understood."
      ]
    },
    {
      "cell_type": "markdown",
      "metadata": {
        "id": "PF8oyQYR5wvI"
      },
      "source": [
        "A `formatString()` function is defined as a helper to format the strings that are read from the files:"
      ]
    },
    {
      "cell_type": "code",
      "execution_count": 39,
      "metadata": {
        "id": "CHIKgZlT5wvI"
      },
      "outputs": [],
      "source": [
        "###########################################################\n",
        "# Function to format email strings\n",
        "###########################################################\n",
        "def formatString(str):\n",
        "\n",
        "\t# Remove special characters\n",
        "\tnewstr = re.sub(\"[^a-zA-Z0-9 ]+\", \" \", str)\n",
        "\n",
        "\t# Remove newlines\n",
        "\tnewstr = re.sub(\"\\\\r\\\\n\", \" \", newstr)\n",
        "\n",
        "\t# Remove repeated spaces\n",
        "\tnewstr = re.sub(\" +\", \" \", newstr)\n",
        "\n",
        "\t# Remove leading and trailing spaces\n",
        "\tnewstr = newstr.strip()\n",
        "\t\n",
        "\treturn newstr"
      ]
    },
    {
      "cell_type": "markdown",
      "metadata": {
        "id": "mBl4VFic5wvI"
      },
      "source": [
        "Next, a `getEmailTextFromFile()` function is defined that  actually reads the data from the email text files.  In this function, the subject and body text are extracted individually, ignoring the remainder of the email headers that are present in the files.\n",
        "\n",
        "I did consider including the headers as features, but in the end decided that they probably wouldn't have as much influence over the classification as the subject and body of the emails. Some experimentation along those lines might be interesting.\n",
        "\n",
        "As part of this read process, extraneous characters are removed from the text. Some files also turned out to be encoded in ANSI rather than UTF-8, so that situation is handled here too."
      ]
    },
    {
      "cell_type": "code",
      "execution_count": 40,
      "metadata": {
        "id": "DAlFvNE75wvI"
      },
      "outputs": [],
      "source": [
        "###########################################################\n",
        "# Read email text from file\n",
        "###########################################################\n",
        "def getEmailTextFromFile(filename):\n",
        "\n",
        "\temailText = \"\"\n",
        "\tsubject = \"\"\n",
        "\tbody = \"\"\n",
        "\n",
        "\t# Open the file\n",
        "\ttry:\n",
        "\n",
        "\t\t# Read using UTF-8 encoding\n",
        "\t\twith open(filename, \"r\", encoding=\"utf-8\") as emailFile:\n",
        "\t\t\temailText = emailFile.read()\n",
        "\n",
        "\texcept UnicodeDecodeError:\n",
        "\n",
        "\t\t# Some files are encoded differently\n",
        "\t\twith open(filename, \"r\", encoding=\"latin-1\") as emailFile:\n",
        "\t\t\temailText = emailFile.read()\n",
        "\n",
        "\t# Extract the subject\n",
        "\tsubjectStart = emailText.find(\"Subject: \") + 9\n",
        "\tsubject = emailText[subjectStart : emailText.find(\"\\n\", subjectStart) ]\n",
        "\n",
        "\t# Extract the body\n",
        "\tbody = emailText[emailText.find(\"\\n\\n\") + 1 :]\n",
        "\n",
        "\t# Format the strings\n",
        "\tsubject = formatString(subject)\n",
        "\tbody = formatString(body)\n",
        "\n",
        "\treturn subject, body"
      ]
    },
    {
      "cell_type": "markdown",
      "metadata": {
        "id": "cAowM3El5wvJ"
      },
      "source": [
        "Next, the emails are ingested and parsed. The output is `allEmails` a list of dictionary email objects with the following structure:\n",
        "\n",
        "|Field|Meaning|\n",
        "|---|---|\n",
        "|subject|Text from the email's subject line|\n",
        "|body|Text from the email's body|\n",
        "|type|The email's class, i.e. \"ham\" or \"spam\"|\n"
      ]
    },
    {
      "cell_type": "code",
      "execution_count": 41,
      "metadata": {
        "colab": {
          "base_uri": "https://localhost:8080/"
        },
        "id": "25sl4DNS5wvJ",
        "outputId": "83e30fd6-fa6e-4312-926f-193c62398c67"
      },
      "outputs": [
        {
          "name": "stdout",
          "output_type": "stream",
          "text": [
            "There are 2551 ham files\n",
            "There are 501 spam files\n",
            "Ingested 3052 total email files\n"
          ]
        }
      ],
      "source": [
        "# Initialize emails list\n",
        "allEmails = []\n",
        "\n",
        "# Initialize label classes\n",
        "uniqueLabels = [\"Ham\", \"Spam\"]\n",
        "\n",
        "# Formulate email directory paths\n",
        "hamDir = os.path.join(BASE_EMAILS_DIR, \"ham\")\n",
        "spamDir = os.path.join(BASE_EMAILS_DIR, \"spam\")\n",
        "\n",
        "# Get email filenames\n",
        "hamFilenames = os.listdir(hamDir)\n",
        "spamFilenames = os.listdir(spamDir)\n",
        "\n",
        "# Display the number of emails in each directory\n",
        "print(\"There are %i ham files\" % len(hamFilenames))\n",
        "print(\"There are %i spam files\" % len(spamFilenames))\n",
        "\n",
        "# Read ham emails\n",
        "for filename in hamFilenames:\n",
        "\n",
        "\t# Formulate email filename\n",
        "\tfilename = os.path.join(hamDir, filename)\n",
        "\n",
        "\t# Read the subject and body from the file\n",
        "\tsubject, body = getEmailTextFromFile(filename)\n",
        "\t\n",
        "\t# Create the email object\n",
        "\temail = { \"subject\": subject, \"body\": body, \"type\": \"Ham\" }\n",
        "\n",
        "\t# Add email to collection\n",
        "\tallEmails.append(email)\n",
        "\n",
        "# Read spam emails\n",
        "for filename in spamFilenames:\n",
        "\n",
        "\t# Formulate email filename\n",
        "\tfilename = os.path.join(spamDir, filename)\n",
        "\n",
        "\t# Read the subject and body from the file\n",
        "\tsubject, body = getEmailTextFromFile(filename)\n",
        "\t\n",
        "\t# Create the email object\n",
        "\temail = { \"subject\": subject, \"body\": body, \"type\": \"Spam\" }\n",
        "\n",
        "\t# Add email to collection\n",
        "\tallEmails.append(email)\n",
        "\n",
        "print(\"Ingested\", len(allEmails), \"total email files\")"
      ]
    },
    {
      "cell_type": "markdown",
      "metadata": {
        "id": "Jhb9sAoE5wvJ"
      },
      "source": [
        "### Data Cleaning and Normalization\n",
        "\n",
        "Next, I need a function to clean and normalize the data in preparation for splitting into training, validation and test sets.\n",
        "\n",
        "### Randomization  \n",
        "As a first step, the dataset is shuffled to randomize the order of the emails. This helps to ensure that there isn't any adverse influence if the emails are clustered or grouped in some way.  \n",
        "\n",
        "### Cleaning  \n",
        "To simplify the data and help to improve accuracy, the following actions are performed:\n",
        "\n",
        "- The email subject is merged with the email body\n",
        "- Stopwords are removed\n",
        "- All words are lemmatized where necessary\n",
        "- Unusually long words are removed\n",
        "\n",
        "The subject and body text are assumed to be equally relevant to classifying the emails, and so they are merged into a single block of text for the purposes of analysis.\n",
        "\n",
        "#### Stopwords  \n",
        "Stopwords are filtered out of the email data using the list of stopwords from the NLTK library. These words don't  offer much lexical significance, so removing them helps with accuracy.\n",
        "\n",
        "#### Lemmatization  \n",
        "Since the text contains many different derivations of words, lemmatization is necessary in order to reduce the multitude of forms down to a common root word. This helps to improve the accuracy of the model.\n",
        "\n",
        "#### Long Words  \n",
        "While it is possible to have extremely long English words that exceed the threshold that I've chosen here, in practice it's unlikely to be the case, and so they're removed here. This has the side benefit of removing some long nonsense strings that are present in spam emails.  \n",
        "\n",
        "The threshold of 20 letters was chosen based on the length of the longest English words likely to be encountered in common usage, as suggested in Making the Alphabet Dance (Eckler, 1996)."
      ]
    },
    {
      "cell_type": "code",
      "execution_count": 42,
      "metadata": {
        "id": "6JiZYJKK5wvJ"
      },
      "outputs": [],
      "source": [
        "# Using the WordNet lemmatizer\n",
        "wordLemmatizer = WordNetLemmatizer()"
      ]
    },
    {
      "cell_type": "code",
      "execution_count": 43,
      "metadata": {
        "colab": {
          "base_uri": "https://localhost:8080/"
        },
        "id": "PJmD3olcADWQ",
        "outputId": "4faf1387-1ea7-48c9-9512-8eff6e88bc05"
      },
      "outputs": [
        {
          "name": "stderr",
          "output_type": "stream",
          "text": [
            "[nltk_data] Downloading package punkt to D:\\Projects\\UoL\\Natural\n",
            "[nltk_data]     Language Processing\\nltk_data...\n",
            "[nltk_data]   Package punkt is already up-to-date!\n",
            "[nltk_data] Downloading package stopwords to D:\\Projects\\UoL\\Natural\n",
            "[nltk_data]     Language Processing\\nltk_data...\n",
            "[nltk_data]   Package stopwords is already up-to-date!\n",
            "[nltk_data] Downloading package wordnet to D:\\Projects\\UoL\\Natural\n",
            "[nltk_data]     Language Processing\\nltk_data...\n",
            "[nltk_data]   Package wordnet is already up-to-date!\n"
          ]
        },
        {
          "data": {
            "text/plain": [
              "True"
            ]
          },
          "execution_count": 43,
          "metadata": {},
          "output_type": "execute_result"
        }
      ],
      "source": [
        "# Download some NLTK data files\n",
        "nltk.download('punkt')\n",
        "nltk.download('stopwords')\n",
        "nltk.download('wordnet')"
      ]
    },
    {
      "cell_type": "code",
      "execution_count": 44,
      "metadata": {
        "id": "K-ukMMZA5wvK"
      },
      "outputs": [],
      "source": [
        "###########################################################\n",
        "# Process the email data\n",
        "#\n",
        "# - Returns:\n",
        "#     emailData: list of combined email subject and body\n",
        "#     labelData: list of labels associated with emails\n",
        "###########################################################\n",
        "def processEmails(emails):\n",
        "\n",
        "\t# Define the email and label datasets\n",
        "\temailData = []\n",
        "\tlabelData = []\n",
        "\n",
        "\t# Shuffle the emails\n",
        "\tshuffledEmails = emails.copy()\n",
        "\trandom.shuffle(shuffledEmails)\n",
        "\n",
        "\t# Process each email\n",
        "\tfor email in shuffledEmails:\n",
        "\n",
        "\t\t# Merge the email subject and body text\n",
        "\t\temailText = email[\"subject\"] + \" \" + email[\"body\"]\n",
        "\n",
        "\t\t# Make the text lowercase\n",
        "\t\temailText = emailText.lower()\n",
        "\n",
        "\t\t# Tokenize and remove stopwords\n",
        "\t\temailWordTokens = nltk.word_tokenize(emailText)\n",
        "\t\temailText = [word for word in emailWordTokens if not word in stopwords.words(\"english\")]\n",
        "\n",
        "\t\t# Remove words that are too long to be actual words\n",
        "\t\temailText = [word for word in emailText if len(word) < MAX_WORD_LEN]\n",
        "\n",
        "\t\t# Apply lemmatizer\n",
        "\t\temailText = [wordLemmatizer.lemmatize(word) for word in emailText]\n",
        "\n",
        "\t\t# Convert back to space delimited sentence\n",
        "\t\temailText = \" \".join(emailText)\n",
        "\n",
        "\t\t# Add the remaining words to the dataset\n",
        "\t\temailData.append(emailText)\n",
        "\n",
        "\t\t# Extract the label for each email\n",
        "\t\tlabelData.append(email[\"type\"])\n",
        "\n",
        "\t# Return the emails and labels\n",
        "\treturn emailData, labelData"
      ]
    },
    {
      "cell_type": "code",
      "execution_count": 45,
      "metadata": {
        "id": "g3VJ6NQP5wvK"
      },
      "outputs": [],
      "source": [
        "# Process the emails that were read from the file\n",
        "emailData, labelData = processEmails(allEmails)"
      ]
    },
    {
      "cell_type": "markdown",
      "metadata": {
        "id": "T5jCJfN75wvK"
      },
      "source": [
        "It's a good idea to check a random sampling of the ingested emails to make sure that everything has worked fine so far."
      ]
    },
    {
      "cell_type": "code",
      "execution_count": 46,
      "metadata": {
        "colab": {
          "base_uri": "https://localhost:8080/"
        },
        "id": "6a-9vGju5wvK",
        "outputId": "c3df0295-ffa9-4bfa-b93b-38dfaf66088d"
      },
      "outputs": [
        {
          "name": "stdout",
          "output_type": "stream",
          "text": [
            "Combined subject and body for email #314:\n",
            " 'slaughter name god j justin mason jm jmason org writes j tibetan buddhism btw seem like awfully j ni...'\n",
            " This email is classified as: Ham\n",
            "\n",
            "Combined subject and body for email #1723:\n",
            " 'uk leading pc specialist nationwide pc repair upgrade call charge hourly charge picked home returned...'\n",
            " This email is classified as: Spam\n",
            "\n",
            "Combined subject and body for email #2479:\n",
            " 'ilug stop mlm insanity greeting receiving letter expressed interest receiving information online bus...'\n",
            " This email is classified as: Spam\n",
            "\n",
            "Combined subject and body for email #1145:\n",
            " 'recommended viewing g geege schuman geege barrera org writes g sure neurochemical process initiated ...'\n",
            " This email is classified as: Ham\n",
            "\n"
          ]
        }
      ],
      "source": [
        "# Display text and labels for some random emails\n",
        "for i in range(4):\n",
        "\tsampleIndex = random.randint(0, len(emailData))\n",
        "\tnumSampleChars = 100\n",
        "\tprint(\"Combined subject and body for email #%i:\\n '%s...'\" % (sampleIndex, emailData[sampleIndex][:numSampleChars]))\n",
        "\tprint(\" This email is classified as: %s\" % labelData[sampleIndex])\n",
        "\tprint(\"\")"
      ]
    },
    {
      "cell_type": "markdown",
      "metadata": {
        "id": "MwWEBPA55wvK"
      },
      "source": [
        "It's also important to check the distribution of the labels in the dataset:"
      ]
    },
    {
      "cell_type": "code",
      "execution_count": 47,
      "metadata": {
        "colab": {
          "base_uri": "https://localhost:8080/"
        },
        "id": "561TjacX5wvK",
        "outputId": "cb6fd0a3-d2ac-41cf-f6da-45503d0f921c"
      },
      "outputs": [
        {
          "name": "stdout",
          "output_type": "stream",
          "text": [
            "The label distribution over the entire dataset is:\n",
            "  Ham: 83.6%\n",
            "  Spam: 16.4%\n"
          ]
        }
      ],
      "source": [
        "# Check for the distribution of the labels\n",
        "labelDist = np.asarray(labelData)\n",
        "allLabelDists = np.unique(labelDist, return_counts=True)\n",
        "numItems = len(labelData)\n",
        "\n",
        "# Print distribution ratio\n",
        "print(\"The label distribution over the entire dataset is:\")\n",
        "print(\"  Ham: %.1f%%\" % (allLabelDists[1][0] / numItems * 100))\n",
        "print(\"  Spam: %.1f%%\" % (allLabelDists[1][1] / numItems * 100))"
      ]
    },
    {
      "cell_type": "markdown",
      "metadata": {
        "id": "ZGY_zi5V5wvK"
      },
      "source": [
        "There are approximately five times more legitimate emails than spam ones, so the dataset is clearly not a balanced one.\n",
        "\n",
        "I don't address the imbalance in this test, but there are data augmentation techniques that can address imbalanced classes like this, e.g. thesaurus, back translation, etc.\n",
        "\n",
        "A severe imbalance has the potential to skew the model's accuracy, but I decided to go ahead with the current distribution and see how well it fared."
      ]
    },
    {
      "cell_type": "markdown",
      "metadata": {
        "id": "4P77Mopy5wvL"
      },
      "source": [
        "### Split the Data\n",
        "\n",
        "OK so next the data is split into __training__, __validation__ and __test__ sets.\n",
        "\n",
        "- The __training__ set is used to train the predictive model.\n",
        "- The __validation__ is used to optimize the model during training.\n",
        "- The __test__ set is used to evaluate the accuracy of the trained model's predictions.\n"
      ]
    },
    {
      "cell_type": "code",
      "execution_count": 48,
      "metadata": {
        "colab": {
          "base_uri": "https://localhost:8080/"
        },
        "id": "a2P_0ZlS5wvL",
        "outputId": "1040b221-614e-44c8-e567-5863d9780bee"
      },
      "outputs": [
        {
          "name": "stdout",
          "output_type": "stream",
          "text": [
            "There are 3052 total emails\n",
            "- There are 2136 items in the training set\n",
            "- There are 457 items in the validation set\n",
            "- There are 459 items in the test set\n"
          ]
        }
      ],
      "source": [
        "# Split the data into training and test sets\n",
        "\n",
        "# Calculate the size of the training set\n",
        "numItems = len(emailData)\n",
        "trainingSplitIndex = int(numItems * TRAIN_DATA_SPLIT)\n",
        "validationSplitIndex = int(numItems * VALIDATION_DATA_SPLIT) + trainingSplitIndex\n",
        "\n",
        "# Split training data\n",
        "trainingData = emailData[:trainingSplitIndex]\n",
        "trainingLabels = labelData[:trainingSplitIndex]\n",
        "\n",
        "# Split validation data\n",
        "validationData = emailData[trainingSplitIndex : validationSplitIndex]\n",
        "validationLabels = labelData[trainingSplitIndex : validationSplitIndex]\n",
        "\n",
        "# Split test data\n",
        "testData = emailData[validationSplitIndex:]\n",
        "testLabels = labelData[validationSplitIndex:]\n",
        "\n",
        "# Display sizes\n",
        "print(\"There are %i total emails\" % numItems)\n",
        "print(\"- There are %i items in the training set\" % len(trainingData))\n",
        "print(\"- There are %i items in the validation set\" % len(validationData))\n",
        "print(\"- There are %i items in the test set\" % (len(testData)))"
      ]
    },
    {
      "cell_type": "markdown",
      "metadata": {
        "id": "mA29UNHC5wvL"
      },
      "source": [
        "Since the random shuffling may result in a different ratio of ham/spam content in the individual training, validation and test datasets, it's best to examine the distribution in each individual set too."
      ]
    },
    {
      "cell_type": "code",
      "execution_count": 49,
      "metadata": {
        "colab": {
          "base_uri": "https://localhost:8080/",
          "height": 143
        },
        "id": "5azXI8dc5wvL",
        "outputId": "de0f460a-0b29-4076-b477-1c09881ed813"
      },
      "outputs": [
        {
          "data": {
            "text/html": [
              "<div>\n",
              "<style scoped>\n",
              "    .dataframe tbody tr th:only-of-type {\n",
              "        vertical-align: middle;\n",
              "    }\n",
              "\n",
              "    .dataframe tbody tr th {\n",
              "        vertical-align: top;\n",
              "    }\n",
              "\n",
              "    .dataframe thead th {\n",
              "        text-align: right;\n",
              "    }\n",
              "</style>\n",
              "<table border=\"1\" class=\"dataframe\">\n",
              "  <thead>\n",
              "    <tr style=\"text-align: right;\">\n",
              "      <th></th>\n",
              "      <th>Ham</th>\n",
              "      <th>Spam</th>\n",
              "      <th>Spam %</th>\n",
              "    </tr>\n",
              "  </thead>\n",
              "  <tbody>\n",
              "    <tr>\n",
              "      <th>Training</th>\n",
              "      <td>1794</td>\n",
              "      <td>342</td>\n",
              "      <td>16.0</td>\n",
              "    </tr>\n",
              "    <tr>\n",
              "      <th>Validation</th>\n",
              "      <td>376</td>\n",
              "      <td>81</td>\n",
              "      <td>17.7</td>\n",
              "    </tr>\n",
              "    <tr>\n",
              "      <th>Test</th>\n",
              "      <td>381</td>\n",
              "      <td>78</td>\n",
              "      <td>17.0</td>\n",
              "    </tr>\n",
              "  </tbody>\n",
              "</table>\n",
              "</div>"
            ],
            "text/plain": [
              "             Ham  Spam  Spam %\n",
              "Training    1794   342    16.0\n",
              "Validation   376    81    17.7\n",
              "Test         381    78    17.0"
            ]
          },
          "execution_count": 49,
          "metadata": {},
          "output_type": "execute_result"
        }
      ],
      "source": [
        "# Summarize the label counts\n",
        "trainingCounts = pd.DataFrame(trainingLabels, columns=[\"Training\"]).groupby(\"Training\").size()\n",
        "validationCounts = pd.DataFrame(validationLabels, columns=[\"Validation\"]).groupby(\"Validation\").size()\n",
        "testCounts = pd.DataFrame(testLabels, columns=[\"Test\"]).groupby(\"Test\").size()\n",
        "\n",
        "# Merge the sets of counts together\n",
        "labelDists = pd.concat([trainingCounts, validationCounts, testCounts], axis=1).transpose()\n",
        "labelDists.rename(index={ 0: \"Training\", 1: \"Validation\", 2: \"Test\"}, inplace=True)\n",
        "\n",
        "# Calculate the ham/spam ratio\n",
        "labelDists[\"Spam %\"] = round(labelDists[\"Spam\"] / (labelDists[\"Ham\"] + labelDists[\"Spam\"]) * 100, 1)\n",
        "\n",
        "labelDists"
      ]
    },
    {
      "cell_type": "markdown",
      "metadata": {
        "id": "2wZEyQCi5wvL"
      },
      "source": [
        "In this run, at least, the variance of the ham-to-spam ratio in each individual set isn't large enough to be of concern."
      ]
    },
    {
      "cell_type": "markdown",
      "metadata": {
        "id": "3e3eu_Yd5wvL"
      },
      "source": [
        "### Vocabulary\n",
        "\n",
        "Counting the number of unique words defines the size of the vocabulary."
      ]
    },
    {
      "cell_type": "code",
      "execution_count": 50,
      "metadata": {
        "colab": {
          "base_uri": "https://localhost:8080/"
        },
        "id": "68tGWL4o5wvL",
        "outputId": "0dd2f1a2-7e6c-4741-f4c6-a97dbcf0ff4b"
      },
      "outputs": [
        {
          "name": "stdout",
          "output_type": "stream",
          "text": [
            "Training data has 34753 unique words\n"
          ]
        }
      ],
      "source": [
        "# Determine the size of the vocabulary\n",
        "# This will be based on the size of the training data only, since in theory \n",
        "# the model will have never seen either the validation or test data.\n",
        "tempVocab = { \"\" }\n",
        "for email in trainingData:\n",
        "\tfor word in email.split(\" \"):\n",
        "\t\ttempVocab.add(word)\n",
        "print(\"Training data has %i unique words\" % len(tempVocab))"
      ]
    },
    {
      "cell_type": "markdown",
      "metadata": {
        "id": "uKhl6wSL5wvL"
      },
      "source": [
        "### Vectorize the Data\n",
        "\n",
        "The model requires that the email text data be vectorized, or converted to numerical vector embeddings, prior to being used for training and validation."
      ]
    },
    {
      "cell_type": "code",
      "execution_count": 51,
      "metadata": {
        "colab": {
          "base_uri": "https://localhost:8080/"
        },
        "id": "CBO5XP5s5wvL",
        "outputId": "c4c241ae-081e-44f2-a9f6-4c46a5f7b89e"
      },
      "outputs": [
        {
          "name": "stdout",
          "output_type": "stream",
          "text": [
            "There are 3052 total emails\n",
            "- There are 2136 items in the vectorized training set (non-vectorized 2136)\n",
            "- There are 457 items in the vectorized validation set (non-vectorized 457)\n",
            "- There are 459 items in the vectorized test set (non-vectorized 459)\n"
          ]
        }
      ],
      "source": [
        "# Set the maximum vocabulary size\n",
        "MAX_VOCAB_SIZE = len(tempVocab)\n",
        "\n",
        "# Instantiate vectorizer\n",
        "vectorizer = tf.keras.layers.TextVectorization(max_tokens=MAX_VOCAB_SIZE)\n",
        "\n",
        "# Adapt to the input text\n",
        "vectorizer.adapt(emailData)\n",
        "vectorizedEmailData = vectorizer(emailData)\n",
        "\n",
        "# Split the vectorized input data\n",
        "vectorizedTrainingData = vectorizedEmailData[:trainingSplitIndex]\n",
        "vectorizedValidationData = vectorizedEmailData[trainingSplitIndex : validationSplitIndex]\n",
        "vectorizedTestData = vectorizedEmailData[validationSplitIndex:]\n",
        "\n",
        "# Get the maximum number of tokens for each email in the dataset\n",
        "# This is used later to configure the embedding layer's dimensions\n",
        "maxlen=len(vectorizedTrainingData[0])\n",
        "\n",
        "# Display the sizes of the datasets for verification.\n",
        "# They should match the non-vectorized dataset sizes.\n",
        "print(\"There are %i total emails\" % numItems)\n",
        "print(\"- There are %i items in the vectorized training set (non-vectorized %i)\" % (len(vectorizedTrainingData), len(trainingData)))\n",
        "print(\"- There are %i items in the vectorized validation set (non-vectorized %i)\" % (len(vectorizedValidationData), len(validationData)))\n",
        "print(\"- There are %i items in the vectorized test set (non-vectorized %i)\" % (len(vectorizedTestData), len(testData)))"
      ]
    },
    {
      "cell_type": "markdown",
      "metadata": {
        "id": "n2OvXyVr5wvM"
      },
      "source": [
        "A similar conversion is applied to the training and validation labels."
      ]
    },
    {
      "cell_type": "code",
      "execution_count": 52,
      "metadata": {
        "id": "Ycb6Zj2X5wvM"
      },
      "outputs": [],
      "source": [
        "# We'll also need to convert the binary labels to floats\n",
        "encodedTrainingLabels = np.asarray([1.0 if label == \"Ham\" else 0.0 for label in trainingLabels])\n",
        "encodedValidationLabels = np.asarray([1.0 if label == \"Ham\" else 0.0 for label in validationLabels])\n",
        "encodedTestLabels = np.asarray([1.0 if label == \"Ham\" else 0.0 for label in testLabels])"
      ]
    },
    {
      "cell_type": "markdown",
      "metadata": {
        "id": "FAX3cWUe5wvM"
      },
      "source": [
        "### Create the Transformer  \n",
        "Next the Transformer model is constructed. As mentioned previously this is a Transformer model using word embeddings and Multi-Head Attention, as described in the Google paper _Attention Is All You Need_ (Vaswani, et al., 2017).  \n",
        "\n",
        "I dervied the practical implementation details from the Keras code examples page [Text Classification with Transformer](https://keras.io/examples/nlp/text_classification_with_transformer/) (Nandan, 2020), but I've added explanatory comments and expanded variable names for clarity.\n",
        "\n",
        "The Transformer block is implemented as a separate layer class added to the model."
      ]
    },
    {
      "cell_type": "code",
      "execution_count": 53,
      "metadata": {
        "id": "Y2gGVfjQ5wvM"
      },
      "outputs": [],
      "source": [
        "###########################################################\n",
        "# Transformer layer\n",
        "###########################################################\n",
        "class TransformerBlock(tf.keras.layers.Layer):\n",
        "\n",
        "    # Constructor\n",
        "    def __init__(self, embed_dim, num_heads, ff_dim, rate=0.1):\n",
        "        super(TransformerBlock, self).__init__()\n",
        "\n",
        "        # Define Multi-Head Attention layer\n",
        "        self.att = tf.keras.layers.MultiHeadAttention(num_heads=num_heads, key_dim=embed_dim)\n",
        "\n",
        "        # Define dense layers\n",
        "        self.ffn = tf.keras.Sequential(\n",
        "            [tf.keras.layers.Dense(ff_dim, activation=\"relu\"), tf.keras.layers.Dense(embed_dim),]\n",
        "        )\n",
        "\n",
        "        # Define normalization layers\n",
        "        self.normalizedLayer1 = tf.keras.layers.LayerNormalization(epsilon=1e-6)\n",
        "        self.normalizedLayer2 = tf.keras.layers.LayerNormalization(epsilon=1e-6)\n",
        "\n",
        "        # Define dropout layers\n",
        "        self.dropoutLayer1 = tf.keras.layers.Dropout(rate)\n",
        "        self.dropoutLayer2 = tf.keras.layers.Dropout(rate)\n",
        "\n",
        "    # Class instance can be called like a function\n",
        "    def call(self, inputs, training):\n",
        "\n",
        "        # Process Multi-Head Attention layer\n",
        "        attentionLayerOutput = self.att(inputs, inputs)\n",
        "        attentionLayerOutput = self.dropoutLayer1(attentionLayerOutput, training=training)\n",
        "\n",
        "        # Apply layer normalization\n",
        "        outputLayer1 = self.normalizedLayer1(inputs + attentionLayerOutput)\n",
        "\n",
        "        # Process the feed forward dense layer\n",
        "        denseLayerOutput = self.ffn(outputLayer1)\n",
        "        denseLayerOutput = self.dropoutLayer2(denseLayerOutput, training=training)\n",
        "        \n",
        "        return self.normalizedLayer2(outputLayer1 + denseLayerOutput)"
      ]
    },
    {
      "cell_type": "markdown",
      "metadata": {
        "id": "ObkaRHTA5wvM"
      },
      "source": [
        "Unlike recurrent models such as RNN and LSTM which reference only recently seen data in the sequence, the Transformer model requires both embedded tokens as well as the position of the tokens in the text data.\n",
        "\n",
        "This requires two separate embedding layers for these purposes, one for tokens and one for the position."
      ]
    },
    {
      "cell_type": "code",
      "execution_count": 54,
      "metadata": {
        "id": "JJitPHut5wvM"
      },
      "outputs": [],
      "source": [
        "###########################################################\n",
        "# Token Layer and Position Layer\n",
        "###########################################################\n",
        "class TokenAndPositionEmbedding(tf.keras.layers.Layer):\n",
        "\n",
        "    # Constructor\n",
        "    def __init__(self, maxlen, vocab_size, embed_dim):\n",
        "        super(TokenAndPositionEmbedding, self).__init__()\n",
        "\n",
        "        # Initialize token layer\n",
        "        self.tokenEmbeddings = tf.keras.layers.Embedding(input_dim=vocab_size, output_dim=embed_dim)\n",
        "\n",
        "        # Initialize position layer\n",
        "        self.positionalEmbeddings = tf.keras.layers.Embedding(input_dim=maxlen, output_dim=embed_dim)\n",
        "\n",
        "    # Class instance can be called like a function\n",
        "    def call(self, x):\n",
        "\n",
        "        # Embed the position\n",
        "        maxlen = tf.shape(x)[-1]\n",
        "        tokenPositions = tf.range(start=0, limit=maxlen, delta=1)\n",
        "        tokenPositions = self.positionalEmbeddings(tokenPositions)\n",
        "\n",
        "        # Embed the token\n",
        "        x = self.tokenEmbeddings(x)\n",
        "\n",
        "        # Return the positional embeddings\n",
        "        return x + tokenPositions"
      ]
    },
    {
      "cell_type": "markdown",
      "metadata": {
        "id": "oFJK00IQ5wvM"
      },
      "source": [
        "Next the various layers are assembled to produce the complete Transformer model. This series of steps is likewise derived from _Text Classification with Transformer_ (Nandan, 2020), with variable names expanded for clarity.  \n",
        "\n",
        "Unlike that example, however, the output layer in this implementation is reduced to one node and its activation function changed from `softmax` to `sigmoid`, in order to perform binary classification rather than multi-class."
      ]
    },
    {
      "cell_type": "code",
      "execution_count": 55,
      "metadata": {
        "id": "YF-xD1Ux5wvM"
      },
      "outputs": [],
      "source": [
        "# Parameters\n",
        "EMBEDDING_DIM = 64  # Embedding size for each token\n",
        "NUM_ATTENTION_HEADS = 2  # Number of attention heads\n",
        "HIDDEN_LAYER_SIZE = 64  # Size of the Transformer's hidden layer\n",
        "DROPOUT_RATE = 0.1 # Dropout layer rate\n",
        "\n",
        "# Start with the input layer\n",
        "inputs = tf.keras.layers.Input(shape=(maxlen,))\n",
        "\n",
        "# Add the embedding layer\n",
        "embeddingLayer = TokenAndPositionEmbedding(maxlen, MAX_VOCAB_SIZE, EMBEDDING_DIM)\n",
        "modelLayer = embeddingLayer(inputs)\n",
        "\n",
        "# Add the transformer block\n",
        "transformerBlock = TransformerBlock(EMBEDDING_DIM, NUM_ATTENTION_HEADS, HIDDEN_LAYER_SIZE)\n",
        "modelLayer = transformerBlock(modelLayer)\n",
        "\n",
        "# Pooling layer\n",
        "modelLayer = tf.keras.layers.GlobalAveragePooling1D()(modelLayer)\n",
        "modelLayer = tf.keras.layers.Dropout(DROPOUT_RATE)(modelLayer)\n",
        "\n",
        "# Dense layers\n",
        "modelLayer = tf.keras.layers.Dense(20, activation=\"relu\")(modelLayer)\n",
        "modelLayer = tf.keras.layers.Dropout(DROPOUT_RATE)(modelLayer)\n",
        "\n",
        "# Output layer\n",
        "outputs = tf.keras.layers.Dense(1, activation=\"sigmoid\")(modelLayer)\n",
        "\n",
        "# Assemble the Transformer model\n",
        "xfModel = tf.keras.Model(inputs=inputs, outputs=outputs)"
      ]
    },
    {
      "cell_type": "markdown",
      "metadata": {
        "id": "mb_rWaJz5wvM"
      },
      "source": [
        "### Tuning and Compilation\n",
        "\n",
        "To tune the performance of the model, the hyperparameters are adjusted over several training iterations.  \n",
        "\n",
        "Specifically, the dimensions of the hidden layers and embedding sizes are each adjusted, with successive experiments resulting in small incremental improvements (around 1%) to the model's accuracy against the previously unseen data. Depending on hardware, training for each iteration can take quite some time.  \n",
        "\n",
        "The model is compiled and a summary of the layers is displayed."
      ]
    },
    {
      "cell_type": "code",
      "execution_count": 56,
      "metadata": {
        "colab": {
          "base_uri": "https://localhost:8080/"
        },
        "id": "psYhe8gE5wvN",
        "outputId": "6d2aec1d-d2ab-467d-b624-0df21a0312b7"
      },
      "outputs": [
        {
          "name": "stdout",
          "output_type": "stream",
          "text": [
            "Model: \"model_1\"\n",
            "_________________________________________________________________\n",
            " Layer (type)                Output Shape              Param #   \n",
            "=================================================================\n",
            " input_2 (InputLayer)        [(None, 7635)]            0         \n",
            "                                                                 \n",
            " token_and_position_embeddin  (None, 7635, 64)         2712832   \n",
            " g_1 (TokenAndPositionEmbedd                                     \n",
            " ing)                                                            \n",
            "                                                                 \n",
            " transformer_block_1 (Transf  (None, 7635, 64)         41792     \n",
            " ormerBlock)                                                     \n",
            "                                                                 \n",
            " global_average_pooling1d_1   (None, 64)               0         \n",
            " (GlobalAveragePooling1D)                                        \n",
            "                                                                 \n",
            " dropout_6 (Dropout)         (None, 64)                0         \n",
            "                                                                 \n",
            " dense_6 (Dense)             (None, 20)                1300      \n",
            "                                                                 \n",
            " dropout_7 (Dropout)         (None, 20)                0         \n",
            "                                                                 \n",
            " dense_7 (Dense)             (None, 1)                 21        \n",
            "                                                                 \n",
            "=================================================================\n",
            "Total params: 2,755,945\n",
            "Trainable params: 2,755,945\n",
            "Non-trainable params: 0\n",
            "_________________________________________________________________\n"
          ]
        }
      ],
      "source": [
        "# Compile the model\n",
        "xfModel.compile(\n",
        "    loss='binary_crossentropy',\n",
        "    optimizer=tf.keras.optimizers.Adam(learning_rate=0.001),\n",
        "    metrics=['accuracy'])\n",
        "\n",
        "# Print the model summary\n",
        "xfModel.summary()"
      ]
    },
    {
      "cell_type": "markdown",
      "metadata": {
        "id": "kiKAqagI5wvN"
      },
      "source": [
        "An `EarlyStopping` callback class is defined to end the training early if the model stops improving over a defined (patience) number of epochs, i.e. to stop training if the validation loss is clearly not getting better over time.  \n",
        "\n",
        "This is necessary since it's initially unclear how many epochs it would take for the validation loss to converge to a minimum, and once attained it would just be a waste of time to continue training epochs that don't return any significant improvement.  \n",
        "\n",
        "The callback class provides another great benefit: the best model weights are retained if the training does end early."
      ]
    },
    {
      "cell_type": "code",
      "execution_count": 57,
      "metadata": {
        "id": "I55sHKWy5wvN"
      },
      "outputs": [],
      "source": [
        "# Define the EarlyStopping callback\n",
        "xfModelCallback = tf.keras.callbacks.EarlyStopping(\n",
        "\tmonitor=\"val_loss\", \n",
        "\tpatience=3, \n",
        "\trestore_best_weights=True,\n",
        "\tverbose=1\n",
        "\t)"
      ]
    },
    {
      "cell_type": "markdown",
      "metadata": {
        "id": "vt-jGf-35wvN"
      },
      "source": [
        "## Train the Transformer Model  \n",
        "The Transformer model is then trained using the vectorized data.  "
      ]
    },
    {
      "cell_type": "code",
      "execution_count": 58,
      "metadata": {
        "colab": {
          "base_uri": "https://localhost:8080/"
        },
        "id": "I2WepTMX5wvN",
        "outputId": "7d1a0a75-1ae0-4d56-82de-80f56607547f"
      },
      "outputs": [
        {
          "name": "stdout",
          "output_type": "stream",
          "text": [
            "Epoch 1/50\n",
            "214/214 [==============================] - 1919s 9s/step - loss: 0.4377 - accuracy: 0.8347 - val_loss: 0.4011 - val_accuracy: 0.8293\n",
            "Epoch 2/50\n",
            "214/214 [==============================] - 1918s 9s/step - loss: 0.1804 - accuracy: 0.9377 - val_loss: 0.0833 - val_accuracy: 0.9694\n",
            "Epoch 3/50\n",
            "214/214 [==============================] - 1918s 9s/step - loss: 0.0638 - accuracy: 0.9817 - val_loss: 0.0936 - val_accuracy: 0.9519\n",
            "Epoch 4/50\n",
            "214/214 [==============================] - 1963s 9s/step - loss: 0.0232 - accuracy: 0.9944 - val_loss: 0.0487 - val_accuracy: 0.9869\n",
            "Epoch 5/50\n",
            "214/214 [==============================] - 1969s 9s/step - loss: 0.0149 - accuracy: 0.9963 - val_loss: 0.0461 - val_accuracy: 0.9869\n",
            "Epoch 6/50\n",
            "214/214 [==============================] - 1968s 9s/step - loss: 0.0113 - accuracy: 0.9972 - val_loss: 0.0800 - val_accuracy: 0.9759\n",
            "Epoch 7/50\n",
            "214/214 [==============================] - 1967s 9s/step - loss: 0.0170 - accuracy: 0.9944 - val_loss: 0.0709 - val_accuracy: 0.9781\n",
            "Epoch 8/50\n",
            "214/214 [==============================] - ETA: 0s - loss: 0.0037 - accuracy: 0.9986Restoring model weights from the end of the best epoch: 5.\n",
            "214/214 [==============================] - 1956s 9s/step - loss: 0.0037 - accuracy: 0.9986 - val_loss: 0.0721 - val_accuracy: 0.9803\n",
            "Epoch 8: early stopping\n",
            "Model training complete!\n",
            "\n",
            "Elapsed training time: 15577.1s (259.6 minutes)\n"
          ]
        }
      ],
      "source": [
        "# Number of epoch cycles to train\n",
        "NUM_EPOCHS = 50\n",
        "\n",
        "# Number of items to batch per epoch. Lower this if you encounter out of memory (OOM) issues\n",
        "BATCH_SIZE = 10\n",
        "\n",
        "# Record start time\n",
        "startTimeXf = time.time()\n",
        "\n",
        "# Train the model\n",
        "historyXf = xfModel.fit(\n",
        "\tvectorizedTrainingData, \n",
        "\tencodedTrainingLabels, \n",
        "\tbatch_size=BATCH_SIZE, \n",
        "\tepochs=NUM_EPOCHS, \n",
        "\tvalidation_data=(vectorizedValidationData, encodedValidationLabels),\n",
        "\tcallbacks=[xfModelCallback])\n",
        "\n",
        "print(\"Model training complete!\\n\")\n",
        "\n",
        "# Display elapsed time\n",
        "endTimeXf = time.time()\n",
        "elapsedTimeXf = endTimeXf - startTimeXf\n",
        "print(\"Elapsed training time: %.1fs (%.1f minutes)\" % (elapsedTimeXf, elapsedTimeXf/60))"
      ]
    },
    {
      "attachments": {},
      "cell_type": "markdown",
      "metadata": {
        "id": "-iOUURAm5wvN"
      },
      "source": [
        "Training on an AMD Ryzen 9 5900X 12-Core CPU and an NVIDIA GeForce RTX 2060 SUPER took almost 4.5 hours."
      ]
    },
    {
      "cell_type": "markdown",
      "metadata": {
        "id": "V3znQapo5wvN"
      },
      "source": [
        "### Chart the Training Accuracy  \n",
        "\n",
        "Once the model has been trained, the accuracy and loss across the training epochs can be charted."
      ]
    },
    {
      "cell_type": "code",
      "execution_count": 59,
      "metadata": {
        "colab": {
          "base_uri": "https://localhost:8080/",
          "height": 881
        },
        "id": "Vx256ic_5wvN",
        "outputId": "187dbaab-ad9f-49d0-b196-9101b6f7d5ba"
      },
      "outputs": [
        {
          "data": {
            "image/png": "[encoded data removed]",
            "text/plain": [
              "<Figure size 432x288 with 1 Axes>"
            ]
          },
          "metadata": {
            "needs_background": "light"
          },
          "output_type": "display_data"
        },
        {
          "data": {
            "image/png": "[encoded data removed]",
            "text/plain": [
              "<Figure size 432x288 with 1 Axes>"
            ]
          },
          "metadata": {
            "needs_background": "light"
          },
          "output_type": "display_data"
        }
      ],
      "source": [
        "import matplotlib.pyplot as plt\n",
        "\n",
        "# Plot Utility\n",
        "def plot_graphs(history, string):\n",
        "  plt.plot(history.history[string])\n",
        "  plt.plot(history.history['val_'+string])\n",
        "  plt.xlabel(\"Epochs\")\n",
        "  plt.ylabel(string)\n",
        "  plt.legend([string, 'val_'+string])\n",
        "  plt.show()\n",
        "\n",
        "# Plot the accuracy and loss history\n",
        "plot_graphs(historyXf, 'accuracy')\n",
        "plot_graphs(historyXf, 'loss')"
      ]
    },
    {
      "attachments": {},
      "cell_type": "markdown",
      "metadata": {
        "id": "HIPtgDFB5wvN"
      },
      "source": [
        "The validation accuracy closely follows the same trend as the training data, flattening out over time. This demonstrates a very slight loss of accuracy vs the training data, which is to be expected.\n",
        "\n",
        "Similarly, the validation loss closely parallels the training loss, reaching optimum performance at epoch 5 (Note: the epochs are zero-indexed on the chart, so epoch 4 on the chart)."
      ]
    },
    {
      "attachments": {},
      "cell_type": "markdown",
      "metadata": {
        "id": "pAh27C7WXrQL"
      },
      "source": [
        "### Save the trained model\n",
        "\n",
        "I saved the trained model weights in case I wanted to play around with predictions later, without having to go through the whole training process all over again."
      ]
    },
    {
      "cell_type": "code",
      "execution_count": 60,
      "metadata": {},
      "outputs": [],
      "source": [
        "# The saved model name\n",
        "modelName = \"xf_spam_classifier\""
      ]
    },
    {
      "cell_type": "code",
      "execution_count": null,
      "metadata": {
        "colab": {
          "base_uri": "https://localhost:8080/",
          "height": 73
        },
        "id": "6sNIxwG0Xp2o",
        "outputId": "8be08f4f-7c84-40ab-e538-abdc494ba0b3"
      },
      "outputs": [],
      "source": [
        "# Save the model\n",
        "xfModel.save(\"./\" + modelName)\n",
        "\n",
        "# Archive the model folder\n",
        "shutil.make_archive(modelName, \"zip\", modelName)"
      ]
    },
    {
      "attachments": {},
      "cell_type": "markdown",
      "metadata": {},
      "source": [
        "The loading function is only used if I'm resuming from another session."
      ]
    },
    {
      "cell_type": "code",
      "execution_count": 62,
      "metadata": {},
      "outputs": [],
      "source": [
        "# Load the trained model\n",
        "def load_saved_model(modelName):\n",
        "\n",
        "  # Unzip the trained model \n",
        "  with zipfile.ZipFile(\"./\" + modelName + \".zip\", \"r\") as zf:\n",
        "    zf.extractall(\"./\" + modelName)\n",
        "  \n",
        "  return tf.keras.models.load_model(modelName)"
      ]
    },
    {
      "cell_type": "code",
      "execution_count": 63,
      "metadata": {},
      "outputs": [],
      "source": [
        "# Load saved model if resuming\n",
        "#xfModel = load_saved_model(modelName)"
      ]
    },
    {
      "attachments": {},
      "cell_type": "markdown",
      "metadata": {
        "id": "6R_8Njgi5wvO"
      },
      "source": [
        "### Calculate the Model's Scores\n",
        "\n",
        "Now to calculate the model's performance metrics.\n",
        "\n",
        "As a first step, a set of label predictions is made against the previously unseen email data contained in the test dataset."
      ]
    },
    {
      "cell_type": "code",
      "execution_count": 64,
      "metadata": {
        "colab": {
          "base_uri": "https://localhost:8080/",
          "height": 1000
        },
        "id": "huPKdyvA5wvO",
        "outputId": "30399de3-8b6b-4375-9f19-3ebd2b80d3fb"
      },
      "outputs": [
        {
          "name": "stdout",
          "output_type": "stream",
          "text": [
            "15/15 [==============================] - 734s 26s/step\n"
          ]
        }
      ],
      "source": [
        "# Generate predictions using the Transformer\n",
        "xfPredictedLabels = xfModel.predict(vectorizedTestData)\n",
        "\n",
        "# Convert probabilistic values to text labels\n",
        "xfPredictedLabels = [\"Ham\" if label >= 0.5 else \"Spam\" for label in xfPredictedLabels]"
      ]
    },
    {
      "attachments": {},
      "cell_type": "markdown",
      "metadata": {
        "id": "mFr9dj7s5wvO"
      },
      "source": [
        "These predictions are then compared against the actual labels to calculate the various performance scores.\n",
        "\n",
        "This is a function to calculate the most common scores, namely accuracy, precision, recall and F1."
      ]
    },
    {
      "cell_type": "code",
      "execution_count": 65,
      "metadata": {},
      "outputs": [],
      "source": [
        "###########################################################\n",
        "# Calculate model scores\n",
        "###########################################################\n",
        "def calculateModelScores(actualLabels, predictedLabels):\n",
        "\n",
        "\t# Calculate the scores\n",
        "\taccuracyScore = accuracy_score(actualLabels, predictedLabels)\n",
        "\tprecisionScore = precision_score(actualLabels, predictedLabels, pos_label=\"Ham\", average=\"binary\")\n",
        "\trecallScore = recall_score(actualLabels, predictedLabels, pos_label=\"Ham\", average=\"binary\")\n",
        "\tf1Score = f1_score(actualLabels, predictedLabels, pos_label=\"Ham\", average=\"binary\")\n",
        "\n",
        "\treturn accuracyScore, precisionScore, recallScore, f1Score"
      ]
    },
    {
      "cell_type": "code",
      "execution_count": 66,
      "metadata": {
        "id": "s_Bs08mA5wvO"
      },
      "outputs": [],
      "source": [
        "# Calculate the scores for the target model\n",
        "xfAccuracy, xfPrecision, xfRecall, xfF1 = calculateModelScores(testLabels, xfPredictedLabels)"
      ]
    },
    {
      "cell_type": "code",
      "execution_count": 67,
      "metadata": {
        "id": "KzEr8wYu5wvO"
      },
      "outputs": [
        {
          "name": "stdout",
          "output_type": "stream",
          "text": [
            "Model Accuracy: 0.99\n",
            "Model Precision: 0.99\n",
            "Model Recall: 0.99\n",
            "Model F1: 0.99\n"
          ]
        }
      ],
      "source": [
        "# Display the model scores\n",
        "print(\"Model Accuracy:\", round(xfAccuracy, 2))\n",
        "print(\"Model Precision:\", round(xfPrecision, 2))\n",
        "print(\"Model Recall:\", round(xfRecall, 2))\n",
        "print(\"Model F1:\", round(xfF1, 2))"
      ]
    },
    {
      "attachments": {},
      "cell_type": "markdown",
      "metadata": {},
      "source": [
        "These are excellent scores, but even if there was more variation in the metrics, the F1 score would be particularly relevant here due to the imbalance in the data set."
      ]
    },
    {
      "attachments": {},
      "cell_type": "markdown",
      "metadata": {
        "id": "Vt5aTKt-5wvO"
      },
      "source": [
        "### Analyze Errors\n",
        "\n",
        "We can also use the results to analyze the nature of the prediction errors using a confusion matrix."
      ]
    },
    {
      "cell_type": "code",
      "execution_count": 68,
      "metadata": {
        "id": "yzDg_f6D5wvO"
      },
      "outputs": [
        {
          "name": "stdout",
          "output_type": "stream",
          "text": [
            "The model achieved an accuracy of 98.9%\n"
          ]
        },
        {
          "data": {
            "text/plain": [
              "Text(91.68, 0.5, 'Predicted Labels')"
            ]
          },
          "execution_count": 68,
          "metadata": {},
          "output_type": "execute_result"
        },
        {
          "data": {
            "image/png": "[encoded data removed]",
            "text/plain": [
              "<Figure size 432x288 with 1 Axes>"
            ]
          },
          "metadata": {
            "needs_background": "light"
          },
          "output_type": "display_data"
        }
      ],
      "source": [
        "# Display the accuracy\n",
        "print(\"The model achieved an accuracy of %.1f%%\" % (xfAccuracy * 100))\n",
        "\n",
        "# Generate the confusion matrix\n",
        "xfConfusionMatrix = confusion_matrix(testLabels, xfPredictedLabels)\n",
        "\n",
        "# Extract the matrix componenets\n",
        "xfTN, xfFP, xfFN, xfTP = xfConfusionMatrix.ravel()\n",
        "\n",
        "# Visualize the performance\n",
        "sns.heatmap(xfConfusionMatrix.T, square=True, annot=True, fmt=\"d\", cbar=False, xticklabels=uniqueLabels, yticklabels=uniqueLabels)\n",
        "plt.xlabel(\"Actual Labels\")\n",
        "plt.ylabel(\"Predicted Labels\")"
      ]
    },
    {
      "attachments": {},
      "cell_type": "markdown",
      "metadata": {
        "id": "T3xZNsKz5wvO"
      },
      "source": [
        "From the confusion matrix, it's obvious that the model made very few prediction errors overall."
      ]
    },
    {
      "cell_type": "code",
      "execution_count": 70,
      "metadata": {
        "id": "MQ4KtNZr5wvO"
      },
      "outputs": [
        {
          "name": "stdout",
          "output_type": "stream",
          "text": [
            "The accuracy was 0.99\n",
            "- This indicates how often the model makes correct predictions.\n",
            "\n",
            "The precision was 0.99\n",
            "- This is a measure of the model's ability to avoid classifying a spam email as legitimate.\n",
            "\n",
            "The recall was 0.99\n",
            "- This is a measure of the model's ability to detect legitimate emails.\n",
            "\n",
            "The F1 score was 0.99\n",
            "- This is another measure of the model's accuracy. It can be more reliable in situations where the dataset is imbalanced.\n",
            "\n",
            "There were 2 false positives and 3 false negatives.\n",
            "\n",
            "Model was mistaken in 1.1% of cases.\n"
          ]
        }
      ],
      "source": [
        "# Display model statistics and error rates\n",
        "print(\"The accuracy was %.2f\" % xfAccuracy)\n",
        "print(\"- This indicates how often the model makes correct predictions.\\n\")\n",
        "\n",
        "print(\"The precision was %.2f\" % xfPrecision)\n",
        "print(\"- This is a measure of the model's ability to avoid classifying a spam email as legitimate.\\n\")\n",
        "\n",
        "print(\"The recall was %.2f\" % xfRecall)\n",
        "print(\"- This is a measure of the model's ability to detect legitimate emails.\\n\")\n",
        "\n",
        "print(\"The F1 score was %.2f\" % xfF1)\n",
        "print(\"- This is another measure of the model's accuracy. It can be more reliable in situations where the dataset is imbalanced.\\n\")\n",
        "\n",
        "print(\"There were %i false positives and %i false negatives.\\n\" % (xfFP, xfFN))\n",
        "\n",
        "xfMistaken = (xfFP + xfFN) / len(testData) * 100\n",
        "print(\"Model was mistaken in %.1f%% of cases.\" % xfMistaken)"
      ]
    },
    {
      "attachments": {},
      "cell_type": "markdown",
      "metadata": {
        "id": "As1Eov4s5wvP"
      },
      "source": [
        "An excellent result! The model was only mistaken __1.1%__ of the time against the test dataset. In other words, this model correctly classified 99 out of every 100 emails based on predictions against previously unseen data.\n",
        "\n",
        "This margin of error could possibly be further improved by additional tuning of the hyperparameters, or possibly applying data augmentation to the class imbalance disparity noted earlier."
      ]
    },
    {
      "attachments": {},
      "cell_type": "markdown",
      "metadata": {
        "id": "ItHKhnfF5wvP"
      },
      "source": [
        "## Conclusion\n",
        "\n",
        "When applied towards the task of classifying previously unseen ham and spam emails, the Transformer model appears to perform exceptionally well. It requires a significant amount of time for training vs a simpler model--such as Multinomial Naive Bayes for example--but its particular characteristics and Multi-Head Attention mechanism allowed for very effective discrimination between samples.  "
      ]
    }
  ],
  "metadata": {
    "accelerator": "GPU",
    "colab": {
      "provenance": []
    },
    "gpuClass": "premium",
    "kernelspec": {
      "display_name": "TF",
      "language": "python",
      "name": "python3"
    },
    "language_info": {
      "codemirror_mode": {
        "name": "ipython",
        "version": 3
      },
      "file_extension": ".py",
      "mimetype": "text/x-python",
      "name": "python",
      "nbconvert_exporter": "python",
      "pygments_lexer": "ipython3",
      "version": "3.9.12"
    },
    "orig_nbformat": 4,
    "vscode": {
      "interpreter": {
        "hash": "a619d752d17746df1f1953f3d051b3a3e10a0a0c0bcace8f8e346299d17ff55d"
      }
    }
  },
  "nbformat": 4,
  "nbformat_minor": 0
}
